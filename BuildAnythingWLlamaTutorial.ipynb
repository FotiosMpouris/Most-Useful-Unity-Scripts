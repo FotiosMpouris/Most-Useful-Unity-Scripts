{
  "nbformat": 4,
  "nbformat_minor": 0,
  "metadata": {
    "colab": {
      "provenance": [],
      "authorship_tag": "ABX9TyPyGoH9GVZDZ9ZW4x1nUGs0",
      "include_colab_link": true
    },
    "kernelspec": {
      "name": "python3",
      "display_name": "Python 3"
    },
    "language_info": {
      "name": "python"
    }
  },
  "cells": [
    {
      "cell_type": "markdown",
      "metadata": {
        "id": "view-in-github",
        "colab_type": "text"
      },
      "source": [
        "<a href=\"https://colab.research.google.com/github/FotiosMpouris/Most-Useful-Unity-Scripts/blob/main/BuildAnythingWLlamaTutorial.ipynb\" target=\"_parent\"><img src=\"https://colab.research.google.com/assets/colab-badge.svg\" alt=\"Open In Colab\"/></a>"
      ]
    },
    {
      "cell_type": "code",
      "execution_count": 1,
      "metadata": {
        "id": "-uHLsv0vqr51"
      },
      "outputs": [],
      "source": [
        "# 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"
      ]
    },
    {
      "cell_type": "code",
      "source": [
        "pip install groq"
      ],
      "metadata": {
        "colab": {
          "base_uri": "https://localhost:8080/"
        },
        "collapsed": true,
        "id": "-TR6O2Ygr95F",
        "outputId": "b85ab564-6055-4240-a67f-223ccf57708a"
      },
      "execution_count": 2,
      "outputs": [
        {
          "output_type": "stream",
          "name": "stdout",
          "text": [
            "Collecting groq\n",
            "  Downloading groq-0.10.0-py3-none-any.whl.metadata (13 kB)\n",
            "Requirement already satisfied: anyio<5,>=3.5.0 in /usr/local/lib/python3.10/dist-packages (from groq) (3.7.1)\n",
            "Requirement already satisfied: distro<2,>=1.7.0 in /usr/lib/python3/dist-packages (from groq) (1.7.0)\n",
            "Collecting httpx<1,>=0.23.0 (from groq)\n",
            "  Downloading httpx-0.27.2-py3-none-any.whl.metadata (7.1 kB)\n",
            "Requirement already satisfied: pydantic<3,>=1.9.0 in /usr/local/lib/python3.10/dist-packages (from groq) (2.8.2)\n",
            "Requirement already satisfied: sniffio in /usr/local/lib/python3.10/dist-packages (from groq) (1.3.1)\n",
            "Requirement already satisfied: typing-extensions<5,>=4.7 in /usr/local/lib/python3.10/dist-packages (from groq) (4.12.2)\n",
            "Requirement already satisfied: idna>=2.8 in /usr/local/lib/python3.10/dist-packages (from anyio<5,>=3.5.0->groq) (3.8)\n",
            "Requirement already satisfied: exceptiongroup in /usr/local/lib/python3.10/dist-packages (from anyio<5,>=3.5.0->groq) (1.2.2)\n",
            "Requirement already satisfied: certifi in /usr/local/lib/python3.10/dist-packages (from httpx<1,>=0.23.0->groq) (2024.7.4)\n",
            "Collecting httpcore==1.* (from httpx<1,>=0.23.0->groq)\n",
            "  Downloading httpcore-1.0.5-py3-none-any.whl.metadata (20 kB)\n",
            "Collecting h11<0.15,>=0.13 (from httpcore==1.*->httpx<1,>=0.23.0->groq)\n",
            "  Downloading h11-0.14.0-py3-none-any.whl.metadata (8.2 kB)\n",
            "Requirement already satisfied: annotated-types>=0.4.0 in /usr/local/lib/python3.10/dist-packages (from pydantic<3,>=1.9.0->groq) (0.7.0)\n",
            "Requirement already satisfied: pydantic-core==2.20.1 in /usr/local/lib/python3.10/dist-packages (from pydantic<3,>=1.9.0->groq) (2.20.1)\n",
            "Downloading groq-0.10.0-py3-none-any.whl (106 kB)\n",
            "\u001b[2K   \u001b[90m━━━━━━━━━━━━━━━━━━━━━━━━━━━━━━━━━━━━━━━━\u001b[0m \u001b[32m106.3/106.3 kB\u001b[0m \u001b[31m6.3 MB/s\u001b[0m eta \u001b[36m0:00:00\u001b[0m\n",
            "\u001b[?25hDownloading httpx-0.27.2-py3-none-any.whl (76 kB)\n",
            "\u001b[2K   \u001b[90m━━━━━━━━━━━━━━━━━━━━━━━━━━━━━━━━━━━━━━━━\u001b[0m \u001b[32m76.4/76.4 kB\u001b[0m \u001b[31m2.8 MB/s\u001b[0m eta \u001b[36m0:00:00\u001b[0m\n",
            "\u001b[?25hDownloading httpcore-1.0.5-py3-none-any.whl (77 kB)\n",
            "\u001b[2K   \u001b[90m━━━━━━━━━━━━━━━━━━━━━━━━━━━━━━━━━━━━━━━━\u001b[0m \u001b[32m77.9/77.9 kB\u001b[0m \u001b[31m4.9 MB/s\u001b[0m eta \u001b[36m0:00:00\u001b[0m\n",
            "\u001b[?25hDownloading h11-0.14.0-py3-none-any.whl (58 kB)\n",
            "\u001b[2K   \u001b[90m━━━━━━━━━━━━━━━━━━━━━━━━━━━━━━━━━━━━━━━━\u001b[0m \u001b[32m58.3/58.3 kB\u001b[0m \u001b[31m2.4 MB/s\u001b[0m eta \u001b[36m0:00:00\u001b[0m\n",
            "\u001b[?25hInstalling collected packages: h11, httpcore, httpx, groq\n",
            "Successfully installed groq-0.10.0 h11-0.14.0 httpcore-1.0.5 httpx-0.27.2\n"
          ]
        }
      ]
    },
    {
      "cell_type": "code",
      "source": [
        "from groq import Groq"
      ],
      "metadata": {
        "id": "BD3mgf-xsUvI"
      },
      "execution_count": 3,
      "outputs": []
    },
    {
      "cell_type": "code",
      "source": [
        "groq_client = Groq(\n",
        "    api_key=\"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\", )"
      ],
      "metadata": {
        "id": "J7BHnbViu5Sh"
      },
      "execution_count": 4,
      "outputs": []
    },
    {
      "cell_type": "code",
      "source": [
        "llama_70B = \"llama-3.1-70b-versatile\"\n",
        "llama_405B = \"llama-3.1-405b-reasoning\""
      ],
      "metadata": {
        "id": "nf4vwX02xUHm"
      },
      "execution_count": 5,
      "outputs": []
    },
    {
      "cell_type": "code",
      "source": [
        "chat_completion = groq_client.chat.completions.create(\n",
        "    messages=[\n",
        "        {\n",
        "            \"role\": \"user\",\n",
        "            \"content\": \"Explain the importance of fast language models\",\n",
        "        }\n",
        "    ],\n",
        "    model= llama_70B,\n",
        ")\n",
        "\n",
        "print(chat_completion.choices[0].message.content)"
      ],
      "metadata": {
        "colab": {
          "base_uri": "https://localhost:8080/"
        },
        "collapsed": true,
        "id": "ln-wmLhXRP6C",
        "outputId": "cff0ffbf-cfd6-4c96-d87f-d2a03d3ec642"
      },
      "execution_count": 6,
      "outputs": [
        {
          "output_type": "stream",
          "name": "stdout",
          "text": [
            "Fast language models are crucial in the field of natural language processing (NLP) due to their numerous benefits and applications. The importance of fast language models can be highlighted in the following areas:\n",
            "\n",
            "1. **Efficient Information Retrieval**: Fast language models enable swift and accurate information retrieval, allowing users to quickly access relevant information from vast amounts of text data. This is particularly essential in applications like search engines, chatbots, and question-answering systems.\n",
            "2. **Real-time Conversational AI**: Fast language models are essential for real-time conversational AI applications, such as virtual assistants (e.g., Siri, Alexa), customer service chatbots, and language translation systems. These models can process and respond to user input rapidly, providing a seamless and interactive experience.\n",
            "3. **Low-Latency Applications**: Fast language models are critical in applications where low latency is crucial, such as in text-to-speech systems, sentiment analysis, and emotional intelligence analysis. In these applications, speed is essential to provide immediate and relevant feedback.\n",
            "4. **Ambient Computing**: Fast language models are a key component of ambient computing, where devices and systems can understand and respond to natural language inputs in real-time. This enables applications like smart home assistants, smart speakers, and other interactive devices.\n",
            "5. **Edge Computing**: Fast language models are important for edge computing, where AI processing is performed on devices or at the edge of the network, reducing latency and improving real-time processing. This is particularly relevant for applications like autonomous vehicles, smart homes, and industrial automation.\n",
            "6. **Resource-Constrained Devices**: Fast language models are essential for resource-constrained devices, such as smartphones, wearables, and IoT devices, where computational resources are limited. These models can provide accurate and efficient performance even on devices with limited resources.\n",
            "7. **Multitask Learning**: Fast language models can enable multitask learning, where a single model can perform multiple tasks simultaneously, such as language translation, question answering, and text summarization. This can improve the efficiency and effectiveness of NLP systems.\n",
            "8. **Improved User Experience**: Fast language models can significantly enhance the user experience in various applications by providing responsive and accurate interactions. This can lead to increased user satisfaction, engagement, and adoption of NLP-powered systems.\n",
            "\n",
            "To achieve fast language models, researchers and practitioners employ various techniques, such as:\n",
            "\n",
            "1. **Model pruning**: reducing the model's size and complexity.\n",
            "2. **Knowledge distillation**: transferring knowledge from a large, pre-trained model to a smaller model.\n",
            "3. **Efficient attention mechanisms**: optimizing attention mechanisms to reduce computational complexity.\n",
            "4. **Quantization**: reducing the precision of model weights and activations.\n",
            "5. **Knowledge graph-based approaches**: using knowledge graphs to reduce the need for extensive computation.\n",
            "\n",
            "Overall, fast language models are crucial for various applications and have the potential to revolutionize the way humans interact with technology.\n"
          ]
        }
      ]
    },
    {
      "cell_type": "code",
      "source": [
        "pip install -q together"
      ],
      "metadata": {
        "colab": {
          "base_uri": "https://localhost:8080/"
        },
        "id": "skl0s4Y_KoMB",
        "outputId": "b53e6150-0d41-46bf-d0cb-d4b8b6d2577f"
      },
      "execution_count": 7,
      "outputs": [
        {
          "output_type": "stream",
          "name": "stdout",
          "text": [
            "\u001b[2K   \u001b[90m━━━━━━━━━━━━━━━━━━━━━━━━━━━━━━━━━━━━━━━━\u001b[0m \u001b[32m65.5/65.5 kB\u001b[0m \u001b[31m2.5 MB/s\u001b[0m eta \u001b[36m0:00:00\u001b[0m\n",
            "\u001b[2K   \u001b[90m━━━━━━━━━━━━━━━━━━━━━━━━━━━━━━━━━━━━━━━━\u001b[0m \u001b[32m4.5/4.5 MB\u001b[0m \u001b[31m24.0 MB/s\u001b[0m eta \u001b[36m0:00:00\u001b[0m\n",
            "\u001b[?25h"
          ]
        }
      ]
    },
    {
      "cell_type": "code",
      "source": [
        "from together import Together"
      ],
      "metadata": {
        "id": "MjBmFE5FKbqP"
      },
      "execution_count": 8,
      "outputs": []
    },
    {
      "cell_type": "code",
      "source": [
        "together_client = Together(api_key= \"0953f89de1e404c1222c33b4591f345a6542caac2532953b5a706152153e35b7\")"
      ],
      "metadata": {
        "id": "RptQy3C1KyJL"
      },
      "execution_count": 9,
      "outputs": []
    },
    {
      "cell_type": "code",
      "source": [
        "response = together_client.chat.completions.create(\n",
        "    model=\"meta-llama/Meta-Llama-3.1-405B-Instruct-Turbo\",\n",
        "    messages=[\n",
        "        {\n",
        "                \"role\": \"system\",\n",
        "                \"content\": \"You are a helpful assistant. Always answer in short\"\n",
        "        },\n",
        "        {\n",
        "                \"role\": \"user\",\n",
        "                \"content\": \"Teach me the basics about James Hardie siding. Answer in short\"\n",
        "        },\n",
        "\n",
        "\n",
        "],\n",
        "    max_tokens=749,\n",
        "    temperature=0.11,\n",
        "    top_p=1,\n",
        "    top_k=50,\n",
        "    repetition_penalty=1,\n",
        "    stop=[\"<|eot_id|>\",\"<|eom_id|>\"],\n",
        "   # stream=True\n",
        ")\n",
        "print(response.choices[0].message.content)"
      ],
      "metadata": {
        "colab": {
          "base_uri": "https://localhost:8080/"
        },
        "id": "PeXQN51zNila",
        "outputId": "72bc6f38-96f0-4529-f37e-97e4faca0e6c"
      },
      "execution_count": 10,
      "outputs": [
        {
          "output_type": "stream",
          "name": "stdout",
          "text": [
            "James Hardie siding is a popular exterior finish made from fiber-cement. Key benefits:\n",
            "\n",
            "1. Durable: Resists rot, warp, and insect damage.\n",
            "2. Fire-resistant: Non-combustible materials.\n",
            "3. Low maintenance: Resists fading and cracking.\n",
            "4. Variety: Offers various styles, textures, and colors.\n",
            "5. Long-lasting: 30-50 year warranty.\n",
            "\n",
            "Common types:\n",
            "\n",
            "1. HardiePlank (lap siding)\n",
            "2. HardieShingle (shingle-style siding)\n",
            "3. HardiePanel (vertical panel siding)\n",
            "4. HardieTrim (decorative trim)\n"
          ]
        }
      ]
    },
    {
      "cell_type": "code",
      "source": [
        "def get_user_input():\n",
        "  user_input = input(\"Please enter the industry or company you want to target: \")\n",
        "  return user_input"
      ],
      "metadata": {
        "id": "bz62Mg0E2zEc"
      },
      "execution_count": 11,
      "outputs": []
    },
    {
      "cell_type": "code",
      "source": [
        "pip install exa_py"
      ],
      "metadata": {
        "colab": {
          "base_uri": "https://localhost:8080/"
        },
        "collapsed": true,
        "id": "m059aoVnOgHX",
        "outputId": "d0364102-e6e5-4d23-9883-33e011fba83d"
      },
      "execution_count": 12,
      "outputs": [
        {
          "output_type": "stream",
          "name": "stdout",
          "text": [
            "Collecting exa_py\n",
            "  Downloading exa_py-1.0.18-py3-none-any.whl.metadata (3.1 kB)\n",
            "Requirement already satisfied: requests in /usr/local/lib/python3.10/dist-packages (from exa_py) (2.32.3)\n",
            "Requirement already satisfied: typing-extensions in /usr/local/lib/python3.10/dist-packages (from exa_py) (4.12.2)\n",
            "Collecting openai>=1.10.0 (from exa_py)\n",
            "  Downloading openai-1.43.0-py3-none-any.whl.metadata (22 kB)\n",
            "Requirement already satisfied: anyio<5,>=3.5.0 in /usr/local/lib/python3.10/dist-packages (from openai>=1.10.0->exa_py) (3.7.1)\n",
            "Requirement already satisfied: distro<2,>=1.7.0 in /usr/lib/python3/dist-packages (from openai>=1.10.0->exa_py) (1.7.0)\n",
            "Requirement already satisfied: httpx<1,>=0.23.0 in /usr/local/lib/python3.10/dist-packages (from openai>=1.10.0->exa_py) (0.27.2)\n",
            "Collecting jiter<1,>=0.4.0 (from openai>=1.10.0->exa_py)\n",
            "  Downloading jiter-0.5.0-cp310-cp310-manylinux_2_17_x86_64.manylinux2014_x86_64.whl.metadata (3.6 kB)\n",
            "Requirement already satisfied: pydantic<3,>=1.9.0 in /usr/local/lib/python3.10/dist-packages (from openai>=1.10.0->exa_py) (2.8.2)\n",
            "Requirement already satisfied: sniffio in /usr/local/lib/python3.10/dist-packages (from openai>=1.10.0->exa_py) (1.3.1)\n",
            "Requirement already satisfied: tqdm>4 in /usr/local/lib/python3.10/dist-packages (from openai>=1.10.0->exa_py) (4.66.5)\n",
            "Requirement already satisfied: charset-normalizer<4,>=2 in /usr/local/lib/python3.10/dist-packages (from requests->exa_py) (3.3.2)\n",
            "Requirement already satisfied: idna<4,>=2.5 in /usr/local/lib/python3.10/dist-packages (from requests->exa_py) (3.8)\n",
            "Requirement already satisfied: urllib3<3,>=1.21.1 in /usr/local/lib/python3.10/dist-packages (from requests->exa_py) (2.0.7)\n",
            "Requirement already satisfied: certifi>=2017.4.17 in /usr/local/lib/python3.10/dist-packages (from requests->exa_py) (2024.7.4)\n",
            "Requirement already satisfied: exceptiongroup in /usr/local/lib/python3.10/dist-packages (from anyio<5,>=3.5.0->openai>=1.10.0->exa_py) (1.2.2)\n",
            "Requirement already satisfied: httpcore==1.* in /usr/local/lib/python3.10/dist-packages (from httpx<1,>=0.23.0->openai>=1.10.0->exa_py) (1.0.5)\n",
            "Requirement already satisfied: h11<0.15,>=0.13 in /usr/local/lib/python3.10/dist-packages (from httpcore==1.*->httpx<1,>=0.23.0->openai>=1.10.0->exa_py) (0.14.0)\n",
            "Requirement already satisfied: annotated-types>=0.4.0 in /usr/local/lib/python3.10/dist-packages (from pydantic<3,>=1.9.0->openai>=1.10.0->exa_py) (0.7.0)\n",
            "Requirement already satisfied: pydantic-core==2.20.1 in /usr/local/lib/python3.10/dist-packages (from pydantic<3,>=1.9.0->openai>=1.10.0->exa_py) (2.20.1)\n",
            "Downloading exa_py-1.0.18-py3-none-any.whl (9.3 kB)\n",
            "Downloading openai-1.43.0-py3-none-any.whl (365 kB)\n",
            "\u001b[2K   \u001b[90m━━━━━━━━━━━━━━━━━━━━━━━━━━━━━━━━━━━━━━━━\u001b[0m \u001b[32m365.7/365.7 kB\u001b[0m \u001b[31m8.1 MB/s\u001b[0m eta \u001b[36m0:00:00\u001b[0m\n",
            "\u001b[?25hDownloading jiter-0.5.0-cp310-cp310-manylinux_2_17_x86_64.manylinux2014_x86_64.whl (318 kB)\n",
            "\u001b[2K   \u001b[90m━━━━━━━━━━━━━━━━━━━━━━━━━━━━━━━━━━━━━━━━\u001b[0m \u001b[32m318.9/318.9 kB\u001b[0m \u001b[31m18.1 MB/s\u001b[0m eta \u001b[36m0:00:00\u001b[0m\n",
            "\u001b[?25hInstalling collected packages: jiter, openai, exa_py\n",
            "Successfully installed exa_py-1.0.18 jiter-0.5.0 openai-1.43.0\n"
          ]
        }
      ]
    },
    {
      "cell_type": "code",
      "source": [
        "from exa_py import Exa\n",
        "\n"
      ],
      "metadata": {
        "id": "gAkA8ZksYk1w"
      },
      "execution_count": 13,
      "outputs": []
    },
    {
      "cell_type": "code",
      "source": [
        "exa_client = Exa(\n",
        "    api_key= \"165ff4a8-1850-474b-b3dc-ca56a7cdb4e8\",)"
      ],
      "metadata": {
        "id": "ndVn558TY9c7"
      },
      "execution_count": 14,
      "outputs": []
    },
    {
      "cell_type": "code",
      "source": [
        "# Define a function to generate search queries using the LLM\n",
        "def agent01 (target):\n",
        "    response = together_client.chat.completions.create(\n",
        "        model=\"meta-llama/Meta-Llama-3.1-405B-Instruct-Turbo\",\n",
        "        messages=[\n",
        "            {\n",
        "                \"role\": \"system\",\n",
        "                \"content\": \"\"\"You are an AI assistant that writes concise search queries for market research.\n",
        "                Create 4 short search queries based on the given target industry or company.\n",
        "                Query 01: biggest pain points faced by this avatar\n",
        "                Query 02: biggest companies in this industry\n",
        "                Query 03: how companies in this industry get clients\n",
        "                Query 04: where to find companies in this industry online\n",
        "                IMPORTANT: Respond with only the queries, one per line.\"\"\"\n",
        "            },\n",
        "            {\n",
        "                \"role\": \"user\",\n",
        "                \"content\": f\"Here's the industry / company to perform market research on: #### {target} ####\"\n",
        "            }\n",
        "        ],\n",
        "        max_tokens=150,\n",
        "        temperature=0.7,\n",
        "        top_p=1,\n",
        "        top_k=50,\n",
        "        repetition_penalty=1,\n",
        "        stop=[\"<|eot_id|>\"]\n",
        "    )\n",
        "    queries = response.choices[0].message.content.split('\\n')\n",
        "    return [query.strip() for query in queries if query.strip()]\n",
        "\n",
        "# Define a function to perform searches using EXA AI and aggregate results\n",
        "def perform_searches(queries):\n",
        "    search_results = []\n",
        "    for query in queries:\n",
        "        # Perform the search with EXA AI\n",
        "        result = exa_client.search_and_contents(\n",
        "            query,\n",
        "            type=\"neural\",\n",
        "            use_autoprompt=True,\n",
        "            num_results=5,\n",
        "            text=True,\n",
        "        )\n",
        "\n",
        "        # Inspect the structure of the result\n",
        "        print(\"Search result structure:\", result)\n",
        "\n",
        "        try:\n",
        "            # Access the 'contents' attribute correctly\n",
        "            contents = result.contents  # Adjust this if necessary\n",
        "            # Process the content from each result\n",
        "            results_content = \"\\n\".join([f\"- {item.content[:100]}...\" for item in contents])  # Adjust if necessary\n",
        "        except AttributeError:\n",
        "            results_content = \"Error: Unable to access contents in the result.\"\n",
        "\n",
        "        search_results.append(results_content)\n",
        "\n",
        "    return search_results\n",
        "\n",
        "# Define the main agent function\n",
        "def query_agent(target):\n",
        "    # Call the correct function to generate search queries\n",
        "    queries = agent01(target)  # Changed from generate_search_queries(target)\n",
        "    search_results = perform_searches(queries)\n",
        "\n",
        "    # Combine search results into a single response\n",
        "    combined_results = \"\\n\\n\".join([f\"Query: {query}\\nResults:\\n{result}\" for query, result in zip(queries, search_results)])\n",
        "\n",
        "    return combined_results\n",
        "\n",
        "# Example usage\n",
        "target = \"fintech industry\"\n",
        "agent_response = query_agent(target)\n",
        "\n",
        "print(agent_response)"
      ],
      "metadata": {
        "collapsed": true,
        "id": "gVmXikbQetso"
      },
      "execution_count": null,
      "outputs": []
    },
    {
      "cell_type": "code",
      "source": [
        "generated_queries = agent01(get_user_input())\n",
        "generated_queries"
      ],
      "metadata": {
        "colab": {
          "base_uri": "https://localhost:8080/"
        },
        "id": "Ve9IzlSsDdTE",
        "outputId": "ee9da223-510c-4d10-c326-5a0878986561"
      },
      "execution_count": 20,
      "outputs": [
        {
          "name": "stdout",
          "output_type": "stream",
          "text": [
            "Please enter the industry or company you want to target: digital marketing\n"
          ]
        },
        {
          "output_type": "execute_result",
          "data": {
            "text/plain": [
              "['biggest pain points faced by digital marketing agencies',\n",
              " 'largest digital marketing companies in the world',\n",
              " 'how do digital marketing agencies acquire new clients',\n",
              " 'best online directories for digital marketing agencies']"
            ]
          },
          "metadata": {},
          "execution_count": 20
        }
      ]
    },
    {
      "cell_type": "code",
      "source": [
        "def exa_web_search_agent(query):\n",
        "    # Perform the search using EXA AI\n",
        "    search_results = exa_client.search_and_contents(\n",
        "        query,\n",
        "        type=\"neural\",\n",
        "        use_autoprompt=True,\n",
        "        num_results=5,\n",
        "        text=True,\n",
        "    )\n",
        "\n",
        "    # Extract relevant text from search results to reduce input size\n",
        "    # Check if 'results' attribute exists and has a 'text' attribute\n",
        "    summary_text = \"\"\n",
        "    if hasattr(search_results, 'results'):\n",
        "        summary_text = \"\\n\".join([f\"- {item.text[:100]}...\" if hasattr(item, 'text') else f\"- {item[:100]}...\"  for item in search_results.results])\n",
        "\n",
        "    # Use an LLM to summarize the search results\n",
        "    response = together_client.chat.completions.create(\n",
        "        model=\"meta-llama/Meta-Llama-3.1-405B-Instruct-Turbo\",\n",
        "        messages=[\n",
        "            {\"role\": \"system\", \"content\": \"You are a web search assistant. Provide a concise summary of the search results.\"},\n",
        "            {\"role\": \"user\", \"content\": f\"Search results: {summary_text}\"} # Send the extracted text instead\n",
        "        ],\n",
        "    )\n",
        "\n",
        "    return response.choices[0].message.content"
      ],
      "metadata": {
        "id": "khwhzyfjIAq0"
      },
      "execution_count": 17,
      "outputs": []
    },
    {
      "cell_type": "code",
      "source": [
        "# Example usage\n",
        "search_results = []\n",
        "for query in generated_queries:\n",
        "    print(\"Searching for...\", query)\n",
        "    result = exa_web_search_agent(query)\n",
        "    search_results.append(result)"
      ],
      "metadata": {
        "id": "29wA8wooAORh",
        "colab": {
          "base_uri": "https://localhost:8080/"
        },
        "outputId": "b223c711-a4c2-4faf-ce0b-622f8d77fbd0"
      },
      "execution_count": 18,
      "outputs": [
        {
          "output_type": "stream",
          "name": "stdout",
          "text": [
            "Searching for... biggest pain points faced by digital marketing agencies\n",
            "Searching for... largest digital marketing companies in the world\n",
            "Searching for... how do digital marketing agencies acquire new clients\n",
            "Searching for... best online directories for digital marketing agencies\n"
          ]
        }
      ]
    },
    {
      "cell_type": "code",
      "source": [
        "search_results"
      ],
      "metadata": {
        "colab": {
          "base_uri": "https://localhost:8080/"
        },
        "collapsed": true,
        "id": "JBa-0KQbnALz",
        "outputId": "b70db960-5d05-41a4-b8eb-3c970283415d"
      },
      "execution_count": 19,
      "outputs": [
        {
          "output_type": "execute_result",
          "data": {
            "text/plain": [
              "['The search results highlight the challenges faced by marketing agencies, particularly small to medium-sized businesses. These challenges include working with tight budgets, intense competition, and managing tasks such as hiring and selling. Despite the high demand for digital marketing services, agencies must work smarter to succeed and grow in a competitive industry.',\n",
              " 'The search results appear to be related to digital marketing agencies and services. The top results are from companies that claim to offer unique and effective digital marketing strategies, including growth hacking, SEO, and results-driven approaches. Some of the agencies highlight their expertise and offer free consultations with Google experts.',\n",
              " 'The search results appear to be related to growing a digital marketing agency and acquiring new clients. They suggest that simply building an agency is not enough to attract clients, and instead, agencies need to develop a unique value proposition, create targeted marketing strategies, and engage in outbound outreach to achieve success. Various resources, including guides and strategies, are available to help agencies scale and grow their business.',\n",
              " 'The search results appear to be related to digital marketing agencies and platforms that connect businesses with service providers. The top results include:\\n\\n* DAN (Digital Agency Network), an all-in-one platform to discover top digital marketing agencies worldwide.\\n* Digitalmonster, a business hub that simplifies digital growth and is trusted by digital leaders globally.\\n* Sortlist, a platform that helps businesses describe their needs and meet relevant service providers.\\n* DAN Global, which provides online platforms, industry knowledge, and tools to support digital marketing.\\n* Groove Jones, a US-based award-winning agency specializing in AR, VR, interactive experiences, gaming, content marketing, and more.\\n\\nThese results suggest that the search query was likely related to finding digital marketing agencies or platforms that can support business growth.']"
            ]
          },
          "metadata": {},
          "execution_count": 19
        }
      ]
    },
    {
      "cell_type": "code",
      "source": [],
      "metadata": {
        "id": "xzV2eqPWnQnw"
      },
      "execution_count": 19,
      "outputs": []
    },
    {
      "cell_type": "code",
      "source": [
        "def cold_email_agent(target, search_results):\n",
        "    # Combine all search results into a single string\n",
        "    combined_results = \"\\n\".join(search_results)\n",
        "\n",
        "    response = together_client.chat.completions.create(\n",
        "        model=\"meta-llama/Meta-Llama-3.1-405B-Instruct-Turbo\",\n",
        "        messages=[\n",
        "            {\n",
        "                \"role\": \"system\",\n",
        "                \"content\": \"\"\"You are an expert cold email writer.\n",
        "                Your task is to write concise and personalized cold emails based on the Market Research given to you.\n",
        "                Make sure to utilize all 4 areas of the research I(pain points, companies, clients, and online sources)\n",
        "                Focus on describing what the target avatar will get, add an appealing guarantee.\n",
        "                Keep the email concise and use plain English.\n",
        "                DO NOT OUTPUT ANY OTHER TEXT !!! ONLY THE COLD EMAIL ITSELF!.\n",
        "                \"\"\"\n",
        "            },\n",
        "            {\n",
        "                \"role\": \"user\",\n",
        "                \"content\": f\"Here is the target avatar: {target} \\n Here is the market research: #### {combined_results} #### ONLY OUTPUT THE EMAIL ITSELF. NO OTHER TEXT!!\"\n",
        "            }\n",
        "        ],\n",
        "        max_tokens=500,\n",
        "        temperature=0.1,\n",
        "        top_p=1,\n",
        "        top_k=50,\n",
        "        repetition_penalty=1,\n",
        "        stop=[\"<|eot_id|>\"]\n",
        "    )\n",
        "\n",
        "    return response.choices[0].message.content"
      ],
      "metadata": {
        "id": "hpjmlPuHAtvE"
      },
      "execution_count": 21,
      "outputs": []
    },
    {
      "cell_type": "code",
      "source": [
        "user_input = get_user_input()"
      ],
      "metadata": {
        "colab": {
          "base_uri": "https://localhost:8080/"
        },
        "id": "oNghIsz1Dhix",
        "outputId": "ae9a048b-5396-49f1-e2f0-4a57617f2d91"
      },
      "execution_count": 22,
      "outputs": [
        {
          "name": "stdout",
          "output_type": "stream",
          "text": [
            "Please enter the industry or company you want to target: digital marketing\n"
          ]
        }
      ]
    },
    {
      "cell_type": "code",
      "source": [
        "generated_queries = agent01(get_user_input())\n",
        "generated_queries"
      ],
      "metadata": {
        "colab": {
          "base_uri": "https://localhost:8080/"
        },
        "outputId": "ee9da223-510c-4d10-c326-5a0878986561",
        "id": "GHRP5c-sql5h"
      },
      "execution_count": null,
      "outputs": [
        {
          "name": "stdout",
          "output_type": "stream",
          "text": [
            "Please enter the industry or company you want to target: digital marketing\n"
          ]
        },
        {
          "output_type": "execute_result",
          "data": {
            "text/plain": [
              "['biggest pain points faced by digital marketing agencies',\n",
              " 'largest digital marketing companies in the world',\n",
              " 'how do digital marketing agencies acquire new clients',\n",
              " 'best online directories for digital marketing agencies']"
            ]
          },
          "metadata": {},
          "execution_count": 20
        }
      ]
    },
    {
      "cell_type": "code",
      "source": [
        "# Example usage\n",
        "search_results = []\n",
        "for query in generated_queries:\n",
        "    print(\"Searching for...\", query)\n",
        "    result = exa_web_search_agent(query)\n",
        "    search_results.append(result)"
      ],
      "metadata": {
        "colab": {
          "base_uri": "https://localhost:8080/"
        },
        "id": "g_qGjOjBD02Z",
        "outputId": "4c4f49af-b80b-4667-9c13-2be28c5bcd5b"
      },
      "execution_count": 24,
      "outputs": [
        {
          "output_type": "stream",
          "name": "stdout",
          "text": [
            "Searching for... biggest pain points faced by digital marketing agencies\n",
            "Searching for... largest digital marketing companies in the world\n",
            "Searching for... how do digital marketing agencies acquire new clients\n",
            "Searching for... best online directories for digital marketing agencies\n"
          ]
        }
      ]
    },
    {
      "cell_type": "code",
      "source": [
        "# Example usage\n",
        "cold_email = cold_email_agent(user_input, search_results)\n",
        "print(cold_email)"
      ],
      "metadata": {
        "colab": {
          "base_uri": "https://localhost:8080/"
        },
        "id": "bKlUtSZrDLv9",
        "outputId": "ad445196-b39d-4262-e703-78a1baced632"
      },
      "execution_count": 25,
      "outputs": [
        {
          "output_type": "stream",
          "name": "stdout",
          "text": [
            "Subject: Unlock Your Agency's Growth Potential\n",
            "\n",
            "Hi [First Name],\n",
            "\n",
            "As a digital marketing agency owner, I'm sure you're no stranger to the challenges of tight budgets, intense competition, and managing multiple tasks. But what if I told you there's a way to overcome these obstacles and take your agency to the next level?\n",
            "\n",
            "Our proven strategies have helped numerous agencies like yours define a unique value proposition, create a core offering, and scale through targeted outbound lead generation. With our expert guidance, you'll be able to:\n",
            "\n",
            "* Attract high-paying clients and increase revenue\n",
            "* Stand out from the competition with a clear and compelling offer\n",
            "* Streamline your operations and focus on growth\n",
            "\n",
            "We're so confident in our approach that we're offering a 30-day money-back guarantee. If you don't see a significant improvement in your agency's growth, we'll refund your investment.\n",
            "\n",
            "Ready to unlock your agency's full potential? Let's schedule a call to discuss your goals and create a customized plan for success.\n",
            "\n",
            "Best,\n",
            "[Your Name]\n"
          ]
        }
      ]
    },
    {
      "cell_type": "code",
      "source": [],
      "metadata": {
        "id": "9S3XtmmJq5ma"
      },
      "execution_count": null,
      "outputs": []
    }
  ]
}